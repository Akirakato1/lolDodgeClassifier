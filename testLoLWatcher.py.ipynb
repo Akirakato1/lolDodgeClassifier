{
 "cells": [
  {
   "cell_type": "code",
   "execution_count": 6,
   "metadata": {
    "scrolled": false
   },
   "outputs": [
    {
     "name": "stdout",
     "output_type": "stream",
     "text": [
      "dict_keys(['id', 'accountId', 'puuid', 'name', 'profileIconId', 'revisionDate', 'summonerLevel'])\n",
      "{'266': 'Aatrox', '103': 'Ahri', '84': 'Akali', '12': 'Alistar', '32': 'Amumu', '34': 'Anivia', '1': 'Annie', '523': 'Aphelios', '22': 'Ashe', '136': 'AurelionSol', '268': 'Azir', '432': 'Bard', '53': 'Blitzcrank', '63': 'Brand', '201': 'Braum', '51': 'Caitlyn', '164': 'Camille', '69': 'Cassiopeia', '31': 'Chogath', '42': 'Corki', '122': 'Darius', '131': 'Diana', '119': 'Draven', '36': 'DrMundo', '245': 'Ekko', '60': 'Elise', '28': 'Evelynn', '81': 'Ezreal', '9': 'Fiddlesticks', '114': 'Fiora', '105': 'Fizz', '3': 'Galio', '41': 'Gangplank', '86': 'Garen', '150': 'Gnar', '79': 'Gragas', '104': 'Graves', '120': 'Hecarim', '74': 'Heimerdinger', '420': 'Illaoi', '39': 'Irelia', '427': 'Ivern', '40': 'Janna', '59': 'JarvanIV', '24': 'Jax', '126': 'Jayce', '202': 'Jhin', '222': 'Jinx', '145': 'Kaisa', '429': 'Kalista', '43': 'Karma', '30': 'Karthus', '38': 'Kassadin', '55': 'Katarina', '10': 'Kayle', '141': 'Kayn', '85': 'Kennen', '121': 'Khazix', '203': 'Kindred', '240': 'Kled', '96': 'KogMaw', '7': 'Leblanc', '64': 'LeeSin', '89': 'Leona', '876': 'Lillia', '127': 'Lissandra', '236': 'Lucian', '117': 'Lulu', '99': 'Lux', '54': 'Malphite', '90': 'Malzahar', '57': 'Maokai', '11': 'MasterYi', '21': 'MissFortune', '62': 'MonkeyKing', '82': 'Mordekaiser', '25': 'Morgana', '267': 'Nami', '75': 'Nasus', '111': 'Nautilus', '518': 'Neeko', '76': 'Nidalee', '56': 'Nocturne', '20': 'Nunu', '2': 'Olaf', '61': 'Orianna', '516': 'Ornn', '80': 'Pantheon', '78': 'Poppy', '555': 'Pyke', '246': 'Qiyana', '133': 'Quinn', '497': 'Rakan', '33': 'Rammus', '421': 'RekSai', '58': 'Renekton', '107': 'Rengar', '92': 'Riven', '68': 'Rumble', '13': 'Ryze', '360': 'Samira', '113': 'Sejuani', '235': 'Senna', '875': 'Sett', '35': 'Shaco', '98': 'Shen', '102': 'Shyvana', '27': 'Singed', '14': 'Sion', '15': 'Sivir', '72': 'Skarner', '37': 'Sona', '16': 'Soraka', '50': 'Swain', '517': 'Sylas', '134': 'Syndra', '223': 'TahmKench', '163': 'Taliyah', '91': 'Talon', '44': 'Taric', '17': 'Teemo', '412': 'Thresh', '18': 'Tristana', '48': 'Trundle', '23': 'Tryndamere', '4': 'TwistedFate', '29': 'Twitch', '77': 'Udyr', '6': 'Urgot', '110': 'Varus', '67': 'Vayne', '45': 'Veigar', '161': 'Velkoz', '254': 'Vi', '112': 'Viktor', '8': 'Vladimir', '106': 'Volibear', '19': 'Warwick', '498': 'Xayah', '101': 'Xerath', '5': 'XinZhao', '157': 'Yasuo', '777': 'Yone', '83': 'Yorick', '350': 'Yuumi', '154': 'Zac', '238': 'Zed', '115': 'Ziggs', '26': 'Zilean', '142': 'Zoe', '143': 'Zyra'}\n",
      "{420}\n",
      "5\n",
      "dict_keys(['platformId', 'gameId', 'champion', 'queue', 'season', 'timestamp', 'role', 'lane'])\n",
      "Thresh\n",
      "dict_keys(['frames', 'frameInterval'])\n",
      "LeeSin\n",
      "dict_keys(['frames', 'frameInterval'])\n",
      "LeeSin\n",
      "dict_keys(['frames', 'frameInterval'])\n",
      "LeeSin\n",
      "dict_keys(['frames', 'frameInterval'])\n",
      "LeeSin\n",
      "dict_keys(['frames', 'frameInterval'])\n",
      "Summoner with that ridiculous name not found.\n"
     ]
    }
   ],
   "source": [
    "from riotwatcher import LolWatcher, ApiError\n",
    "\n",
    "lol_watcher = LolWatcher('RGAPI-94609551-ed4f-4332-9367-1c761fbdc4c8')\n",
    "my_region = 'na1'\n",
    "me = lol_watcher.summoner.by_name(my_region, 'typenyne')\n",
    "print(me.keys())\n",
    "\n",
    "versions = lol_watcher.data_dragon.versions_for_region(my_region)\n",
    "champions_version = versions['n']['champion']\n",
    "\n",
    "current_champ_list = lol_watcher.data_dragon.champions(champions_version)\n",
    "champKeyToNameDict={}\n",
    "for name in list(current_champ_list[\"data\"].keys()):\n",
    "    champKeyToNameDict[current_champ_list[\"data\"][name][\"key\"]]=name\n",
    "print(champKeyToNameDict)\n",
    "\n",
    "# all objects are returned (by default) as a dict\n",
    "# lets see if i got diamond yet (i probably didnt)\n",
    "my_ranked_stats = lol_watcher.league.by_summoner(my_region, me['id'])\n",
    "#print(my_ranked_stats)\n",
    "\n",
    "queueIds=set([420])\n",
    "print(queueIds)\n",
    "matches=lol_watcher.match.matchlist_by_account(region=my_region,encrypted_account_id=me['accountId'],\n",
    "                                               queue=queueIds,begin_index=0, end_index=5)\n",
    "print(len(matches[\"matches\"]))\n",
    "print(matches[\"matches\"][0].keys())\n",
    "for i in range(len(matches[\"matches\"])):\n",
    "    print(champKeyToNameDict[str(matches[\"matches\"][i][\"champion\"])])\n",
    "    print(lol_watcher.match.timeline_by_match(my_region,matches[\"matches\"][i][\"gameId\"]).keys())\n",
    "\n",
    "#print(match[\"frames\"][0])\n",
    "# Lets get some champions\n",
    "\n",
    "\n",
    "# For Riot's API, the 404 status code indicates that the requested data wasn't found and\n",
    "# should be expected to occur in normal operation, as in the case of a an\n",
    "# invalid summoner name, match ID, etc.\n",
    "#\n",
    "# The 429 status code indicates that the user has sent too many requests\n",
    "# in a given amount of time (\"rate limiting\").\n",
    "\n",
    "try:\n",
    "    response = lol_watcher.summoner.by_name(my_region, 'this_is_probably_not_anyones_summoner_name')\n",
    "except ApiError as err:\n",
    "    if err.response.status_code == 429:\n",
    "        print('We should retry in {} seconds.'.format(err.headers['Retry-After']))\n",
    "        print('this retry-after is handled by default by the RiotWatcher library')\n",
    "        print('future requests wait until the retry-after time passes')\n",
    "    elif err.response.status_code == 404:\n",
    "        print('Summoner with that ridiculous name not found.')\n",
    "    else:\n",
    "        raise"
   ]
  },
  {
   "cell_type": "code",
   "execution_count": null,
   "metadata": {},
   "outputs": [],
   "source": []
  },
  {
   "cell_type": "code",
   "execution_count": null,
   "metadata": {},
   "outputs": [],
   "source": []
  }
 ],
 "metadata": {
  "kernelspec": {
   "display_name": "Python 3",
   "language": "python",
   "name": "python3"
  }
 },
 "nbformat": 4,
 "nbformat_minor": 4
}
